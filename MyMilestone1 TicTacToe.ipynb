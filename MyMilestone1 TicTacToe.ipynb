{
 "cells": [
  {
   "cell_type": "code",
   "execution_count": 1,
   "id": "e491b54d",
   "metadata": {},
   "outputs": [],
   "source": [
    "from IPython.display import clear_output\n",
    "def board_display(board):\n",
    "    clear_output()\n",
    "    spacing = \"-\"*11\n",
    "    separator =\"   |   |   \"\n",
    "    \n",
    "    print(separator)\n",
    "    print(\" \"+board[7]+\" \"+\"|\"+\" \"+board[8]+\" \"+\"|\"+\" \"+board[9]+\" \")\n",
    "    print(separator)\n",
    "    print(spacing)\n",
    "    print(separator)\n",
    "    print(\" \"+board[4]+\" \"+\"|\"+\" \"+board[5]+\" \"+\"|\"+\" \"+board[6]+\" \")\n",
    "    print(separator)\n",
    "    print(spacing)\n",
    "    print(separator)\n",
    "    print(\" \"+board[1]+\" \"+\"|\"+\" \"+board[2]+\" \"+\"|\"+\" \"+board[3]+\" \")\n",
    "    print(separator)"
   ]
  },
  {
   "cell_type": "code",
   "execution_count": 2,
   "id": "9817b14b",
   "metadata": {},
   "outputs": [
    {
     "name": "stdout",
     "output_type": "stream",
     "text": [
      "   |   |   \n",
      " O | X | O \n",
      "   |   |   \n",
      "-----------\n",
      "   |   |   \n",
      " X | O | X \n",
      "   |   |   \n",
      "-----------\n",
      "   |   |   \n",
      " X | X | X \n",
      "   |   |   \n"
     ]
    }
   ],
   "source": [
    "test_board = [\"X\",\"X\",\"X\",\"X\",\"X\",\"O\",\"X\",\"O\",\"X\",\"O\"]\n",
    "board_display(test_board)"
   ]
  },
  {
   "cell_type": "code",
   "execution_count": 3,
   "id": "25551025",
   "metadata": {},
   "outputs": [],
   "source": [
    "def player_input():\n",
    "    marker = \" \"\n",
    "    \n",
    "    while not (marker == 'X' or marker == 'O'):\n",
    "        marker = input(\"Player 1: Please choose a marker (X or O): \").upper()\n",
    "\n",
    "    if marker == 'X':\n",
    "        return ('X', 'O')\n",
    "    else:\n",
    "        return ('O', 'X')"
   ]
  },
  {
   "cell_type": "code",
   "execution_count": 4,
   "id": "0f7b74ee",
   "metadata": {},
   "outputs": [
    {
     "data": {
      "text/plain": [
       "('O', 'X')"
      ]
     },
     "execution_count": 4,
     "metadata": {},
     "output_type": "execute_result"
    }
   ],
   "source": [
    "player_input()"
   ]
  },
  {
   "cell_type": "code",
   "execution_count": 5,
   "id": "94553de3",
   "metadata": {},
   "outputs": [],
   "source": [
    "player1_marker , player2_marker = player_input()"
   ]
  },
  {
   "cell_type": "code",
   "execution_count": 6,
   "id": "8be90fbc",
   "metadata": {},
   "outputs": [
    {
     "data": {
      "text/plain": [
       "'O'"
      ]
     },
     "execution_count": 6,
     "metadata": {},
     "output_type": "execute_result"
    }
   ],
   "source": [
    "player2_marker"
   ]
  },
  {
   "cell_type": "code",
   "execution_count": 7,
   "id": "6e6d1731",
   "metadata": {},
   "outputs": [],
   "source": [
    "def place_marker(board, marker, position):\n",
    "    board[position] = marker"
   ]
  },
  {
   "cell_type": "code",
   "execution_count": 8,
   "id": "eca6f369",
   "metadata": {},
   "outputs": [
    {
     "name": "stdout",
     "output_type": "stream",
     "text": [
      "   |   |   \n",
      " O | $ | O \n",
      "   |   |   \n",
      "-----------\n",
      "   |   |   \n",
      " X | O | X \n",
      "   |   |   \n",
      "-----------\n",
      "   |   |   \n",
      " X | X | X \n",
      "   |   |   \n"
     ]
    }
   ],
   "source": [
    "place_marker(test_board,\"$\",8)\n",
    "board_display(test_board)"
   ]
  },
  {
   "cell_type": "code",
   "execution_count": 9,
   "id": "a0cf9dab",
   "metadata": {},
   "outputs": [],
   "source": [
    "def win_check(board,marker):\n",
    "    return ((board[7] == marker and board[8] == marker and board[9] == marker) or \n",
    "            (board[4] == marker and board[5] == marker and board[6] == marker) or \n",
    "            (board[1] == marker and board[2] == marker and board[3] == marker) or\n",
    "            (board[7] == marker and board[4] == marker and board[1] == marker) or \n",
    "            (board[8] == marker and board[5] == marker and board[2] == marker) or \n",
    "            (board[9] == marker and board[6] == marker and board[3] == marker) or \n",
    "            (board[1] == marker and board[5] == marker and board[9] == marker) or \n",
    "            (board[7] == marker and board[5] == marker and board[3] == marker))"
   ]
  },
  {
   "cell_type": "code",
   "execution_count": 10,
   "id": "27d4ca7f",
   "metadata": {},
   "outputs": [
    {
     "data": {
      "text/plain": [
       "True"
      ]
     },
     "execution_count": 10,
     "metadata": {},
     "output_type": "execute_result"
    }
   ],
   "source": [
    "win_check(test_board,\"X\")"
   ]
  },
  {
   "cell_type": "code",
   "execution_count": 11,
   "id": "c8654959",
   "metadata": {},
   "outputs": [],
   "source": [
    "import random\n",
    "def choose_first():\n",
    "    if random.randint(0,1) == 0:\n",
    "        return \"Player 2\"\n",
    "    else:\n",
    "        return \"Player 1\""
   ]
  },
  {
   "cell_type": "code",
   "execution_count": 12,
   "id": "9bf5de80",
   "metadata": {},
   "outputs": [
    {
     "data": {
      "text/plain": [
       "'Player 2'"
      ]
     },
     "execution_count": 12,
     "metadata": {},
     "output_type": "execute_result"
    }
   ],
   "source": [
    "choose_first()"
   ]
  },
  {
   "cell_type": "code",
   "execution_count": 13,
   "id": "2d5a4a86",
   "metadata": {},
   "outputs": [],
   "source": [
    "def space_check(board, position):\n",
    "    return board[position] == \" \""
   ]
  },
  {
   "cell_type": "code",
   "execution_count": 14,
   "id": "3f66678c",
   "metadata": {},
   "outputs": [
    {
     "data": {
      "text/plain": [
       "False"
      ]
     },
     "execution_count": 14,
     "metadata": {},
     "output_type": "execute_result"
    }
   ],
   "source": [
    "space_check(test_board,4)"
   ]
  },
  {
   "cell_type": "code",
   "execution_count": 15,
   "id": "ab0aa3af",
   "metadata": {},
   "outputs": [],
   "source": [
    "def full_check(board):\n",
    "    \n",
    "    for i in range (0,10):\n",
    "        if space_check(board, i):\n",
    "            return False\n",
    "    return True"
   ]
  },
  {
   "cell_type": "code",
   "execution_count": 16,
   "id": "6f794ee4",
   "metadata": {},
   "outputs": [],
   "source": [
    "def player_choice(board):\n",
    "    position = 0\n",
    "    \n",
    "    while position not in [1,2,3,4,5,6,7,8,9] or not space_check(board, position):\n",
    "        position = int(input('Choose your next position: (1-9) '))\n",
    "        \n",
    "    return position"
   ]
  },
  {
   "cell_type": "code",
   "execution_count": 17,
   "id": "edd63e94",
   "metadata": {},
   "outputs": [],
   "source": [
    "def replay():\n",
    "    return input(\"Would you like to keep playing? (Yes or no): \").lower().startswith(\"y\")"
   ]
  },
  {
   "cell_type": "code",
   "execution_count": 18,
   "id": "755505ef",
   "metadata": {},
   "outputs": [
    {
     "data": {
      "text/plain": [
       "True"
      ]
     },
     "execution_count": 18,
     "metadata": {},
     "output_type": "execute_result"
    }
   ],
   "source": [
    "replay()"
   ]
  },
  {
   "cell_type": "code",
   "execution_count": 19,
   "id": "3326291d",
   "metadata": {},
   "outputs": [
    {
     "name": "stdout",
     "output_type": "stream",
     "text": [
      "   |   |   \n",
      "   | O | X \n",
      "   |   |   \n",
      "-----------\n",
      "   |   |   \n",
      " X | X | O \n",
      "   |   |   \n",
      "-----------\n",
      "   |   |   \n",
      " X | O |   \n",
      "   |   |   \n",
      "Congratulations PLayer 1 has won!\n"
     ]
    }
   ],
   "source": [
    "print(\"Welcome to TicTacToe!\")\n",
    "print(\"Lets play a fun game, first player to make a straight line Wins!\")\n",
    "while True:\n",
    "    theBoard = [\" \"]*10\n",
    "    player1_marker, player2_marker = player_input()\n",
    "    turn = choose_first()\n",
    "    print(turn+ \" will play first\")\n",
    "    \n",
    "    play_game = input(\"Are you ready to start the game: (Yes or No)\")\n",
    "    \n",
    "    if play_game.lower()[0] == \"y\":\n",
    "        game_on = True\n",
    "    else:\n",
    "        game_on = False\n",
    "    \n",
    "    \n",
    "    while game_on:\n",
    "        if turn == \"Player 1\":\n",
    "            board_display(theBoard)\n",
    "            position = player_choice(theBoard)\n",
    "            place_marker(theBoard, player1_marker,position)\n",
    "            \n",
    "            if win_check(theBoard,player1_marker):\n",
    "                board_display(theBoard)\n",
    "                print (\"Congratulations PLayer 1 has won!\")\n",
    "                game_on = False\n",
    "            else:\n",
    "                if full_check(theBoard):\n",
    "                    board_display(theBoard)\n",
    "                    print (\"Oh no, this game is a tie!\")\n",
    "                    break \n",
    "                else:\n",
    "                    turn = \"Player 2\"\n",
    "        else:\n",
    "            board_display(theBoard)\n",
    "            position = player_choice(theBoard)\n",
    "            place_marker(theBoard, player2_marker,position)\n",
    "            \n",
    "            if win_check(theBoard,player2_marker):\n",
    "                board_display(theBoard)\n",
    "                print (\"Congratulations PLayer 2 has won!\")\n",
    "                game_on = False\n",
    "            else:\n",
    "                if full_check(theBoard):\n",
    "                    board_display(theBoard)\n",
    "                    print (\"Oh no, this game is a tie!\")\n",
    "                    break \n",
    "                else:\n",
    "                    turn = \"Player 1\"\n",
    "                    \n",
    "    if not replay():\n",
    "        break"
   ]
  },
  {
   "cell_type": "code",
   "execution_count": null,
   "id": "c107daa3",
   "metadata": {},
   "outputs": [],
   "source": []
  }
 ],
 "metadata": {
  "kernelspec": {
   "display_name": "Python 3 (ipykernel)",
   "language": "python",
   "name": "python3"
  },
  "language_info": {
   "codemirror_mode": {
    "name": "ipython",
    "version": 3
   },
   "file_extension": ".py",
   "mimetype": "text/x-python",
   "name": "python",
   "nbconvert_exporter": "python",
   "pygments_lexer": "ipython3",
   "version": "3.11.2"
  }
 },
 "nbformat": 4,
 "nbformat_minor": 5
}
